{
 "cells": [
  {
   "cell_type": "markdown",
   "metadata": {},
   "source": [
    "# CLV contractual settings in discrete time\n",
    "Based on:<br>\n",
    "[Probability Models for Customer-Base Analysis](https://brucehardie.com/talks/ho_cba_tut_art_09.pdf)<br>\n",
    "[Fitting the sBG Model to Multi-Cohort Data](http://brucehardie.com/notes/017/sBG_estimation.pdf)\n",
    "\n",
    "Hypothetical contractual setting:<br>\n",
    "- Each contract is annual, starting on January 1 and expiring at 11:59pm on December 31.\n",
    "- Constant average net cashflow.\n",
    "\n",
    "What is the expected residual value of the customer base at December 31, 2007?"
   ]
  },
  {
   "cell_type": "code",
   "execution_count": 1,
   "metadata": {},
   "outputs": [],
   "source": [
    "import numpy as np\n",
    "import pandas as pd\n",
    "import matplotlib.pyplot as plt\n",
    "import scipy.stats\n",
    "from scipy.optimize import minimize\n",
    "from scipy.special import hyp2f1"
   ]
  },
  {
   "cell_type": "code",
   "execution_count": 2,
   "metadata": {},
   "outputs": [],
   "source": [
    "d = 0.1 # discount rate\n",
    "v = 100 # yearly net CF"
   ]
  },
  {
   "cell_type": "code",
   "execution_count": 3,
   "metadata": {},
   "outputs": [],
   "source": [
    "def rlv(v: float, d: float, r: float) -> float:\n",
    "    \"\"\"Computes E[RLV] of a single customer\n",
    "    \n",
    "    :param v: net CF\n",
    "    :param d: annual discount rate\n",
    "    :param r: annual retention rate\n",
    "    \n",
    "    :returns: E[RLV]\n",
    "    \"\"\"\n",
    "    return v * (1 + d) * (r / (1 + d - r))"
   ]
  },
  {
   "cell_type": "markdown",
   "metadata": {},
   "source": [
    "### Naive CLV"
   ]
  },
  {
   "cell_type": "code",
   "execution_count": 4,
   "metadata": {},
   "outputs": [
    {
     "data": {
      "text/html": [
       "<div>\n",
       "<style scoped>\n",
       "    .dataframe tbody tr th:only-of-type {\n",
       "        vertical-align: middle;\n",
       "    }\n",
       "\n",
       "    .dataframe tbody tr th {\n",
       "        vertical-align: top;\n",
       "    }\n",
       "\n",
       "    .dataframe thead th {\n",
       "        text-align: right;\n",
       "    }\n",
       "</style>\n",
       "<table border=\"1\" class=\"dataframe\">\n",
       "  <thead>\n",
       "    <tr style=\"text-align: right;\">\n",
       "      <th></th>\n",
       "      <th>new</th>\n",
       "      <th>end_of_year</th>\n",
       "    </tr>\n",
       "  </thead>\n",
       "  <tbody>\n",
       "    <tr>\n",
       "      <td>2003</td>\n",
       "      <td>10000</td>\n",
       "      <td>10000</td>\n",
       "    </tr>\n",
       "    <tr>\n",
       "      <td>2004</td>\n",
       "      <td>10000</td>\n",
       "      <td>16334</td>\n",
       "    </tr>\n",
       "    <tr>\n",
       "      <td>2005</td>\n",
       "      <td>10000</td>\n",
       "      <td>20701</td>\n",
       "    </tr>\n",
       "    <tr>\n",
       "      <td>2006</td>\n",
       "      <td>10000</td>\n",
       "      <td>23965</td>\n",
       "    </tr>\n",
       "    <tr>\n",
       "      <td>2007</td>\n",
       "      <td>10000</td>\n",
       "      <td>26569</td>\n",
       "    </tr>\n",
       "  </tbody>\n",
       "</table>\n",
       "</div>"
      ],
      "text/plain": [
       "        new  end_of_year\n",
       "2003  10000        10000\n",
       "2004  10000        16334\n",
       "2005  10000        20701\n",
       "2006  10000        23965\n",
       "2007  10000        26569"
      ]
     },
     "execution_count": 4,
     "metadata": {},
     "output_type": "execute_result"
    }
   ],
   "source": [
    "# we only know how many customers are there at the end of the year and how many of them are new\n",
    "customers = pd.DataFrame(index=range(2003, 2008),\n",
    "                         data={'new': [10_000, 10_000, 10_000, 10_000, 10_000],\n",
    "                               'end_of_year': [10_000, 16_334, 20_701, 23_965, 26_569]}\n",
    "                        )\n",
    "customers"
   ]
  },
  {
   "cell_type": "code",
   "execution_count": 5,
   "metadata": {},
   "outputs": [],
   "source": [
    "base_2007 = customers.loc[2007]['end_of_year']\n",
    "acquired_2007 = customers.loc[2007]['new']\n",
    "base_2006 = customers.loc[2006]['end_of_year']"
   ]
  },
  {
   "cell_type": "code",
   "execution_count": 6,
   "metadata": {},
   "outputs": [
    {
     "name": "stdout",
     "output_type": "stream",
     "text": [
      "RLV: 4945049 \n",
      "retention ratio: 0.69\n"
     ]
    }
   ],
   "source": [
    "r = (base_2007 - acquired_2007) / base_2006 # ratio of customers retained from 2006\n",
    "RLV = 26_569 * rlv(v, d, r) # RLV as of December 31, 2007 assuming flat retention rate\n",
    "\n",
    "print(f'RLV: {int(RLV)} \\nretention ratio: {round(r, 2)}')"
   ]
  },
  {
   "cell_type": "markdown",
   "metadata": {},
   "source": [
    "### Heterogenity"
   ]
  },
  {
   "cell_type": "code",
   "execution_count": 7,
   "metadata": {},
   "outputs": [
    {
     "data": {
      "text/html": [
       "<div>\n",
       "<style scoped>\n",
       "    .dataframe tbody tr th:only-of-type {\n",
       "        vertical-align: middle;\n",
       "    }\n",
       "\n",
       "    .dataframe tbody tr th {\n",
       "        vertical-align: top;\n",
       "    }\n",
       "\n",
       "    .dataframe thead th {\n",
       "        text-align: right;\n",
       "    }\n",
       "</style>\n",
       "<table border=\"1\" class=\"dataframe\">\n",
       "  <thead>\n",
       "    <tr style=\"text-align: right;\">\n",
       "      <th></th>\n",
       "      <th>2003</th>\n",
       "      <th>2004</th>\n",
       "      <th>2005</th>\n",
       "      <th>2006</th>\n",
       "      <th>2007</th>\n",
       "    </tr>\n",
       "  </thead>\n",
       "  <tbody>\n",
       "    <tr>\n",
       "      <td>2003</td>\n",
       "      <td>10000</td>\n",
       "      <td>6334</td>\n",
       "      <td>4367</td>\n",
       "      <td>3264</td>\n",
       "      <td>2604</td>\n",
       "    </tr>\n",
       "    <tr>\n",
       "      <td>2004</td>\n",
       "      <td>0</td>\n",
       "      <td>10000</td>\n",
       "      <td>6334</td>\n",
       "      <td>4367</td>\n",
       "      <td>3264</td>\n",
       "    </tr>\n",
       "    <tr>\n",
       "      <td>2005</td>\n",
       "      <td>0</td>\n",
       "      <td>0</td>\n",
       "      <td>10000</td>\n",
       "      <td>6334</td>\n",
       "      <td>4367</td>\n",
       "    </tr>\n",
       "    <tr>\n",
       "      <td>2006</td>\n",
       "      <td>0</td>\n",
       "      <td>0</td>\n",
       "      <td>0</td>\n",
       "      <td>10000</td>\n",
       "      <td>6334</td>\n",
       "    </tr>\n",
       "    <tr>\n",
       "      <td>2007</td>\n",
       "      <td>0</td>\n",
       "      <td>0</td>\n",
       "      <td>0</td>\n",
       "      <td>0</td>\n",
       "      <td>10000</td>\n",
       "    </tr>\n",
       "  </tbody>\n",
       "</table>\n",
       "</div>"
      ],
      "text/plain": [
       "       2003   2004   2005   2006   2007\n",
       "2003  10000   6334   4367   3264   2604\n",
       "2004      0  10000   6334   4367   3264\n",
       "2005      0      0  10000   6334   4367\n",
       "2006      0      0      0  10000   6334\n",
       "2007      0      0      0      0  10000"
      ]
     },
     "execution_count": 7,
     "metadata": {},
     "output_type": "execute_result"
    }
   ],
   "source": [
    "# slightly richer data - we know which year each customer was acquired in\n",
    "customers = pd.DataFrame(index=range(2003, 2008),\n",
    "                         data={\n",
    "                             '2003': [10_000, 0, 0, 0, 0],\n",
    "                             '2004': [6_334, 10_000, 0, 0, 0],\n",
    "                             '2005': [4_367, 6_334, 10_000, 0, 0],\n",
    "                             '2006': [3_264, 4_367, 6_334, 10_000, 0],\n",
    "                             '2007': [2_604, 3_264, 4_367, 6_334, 10_000]\n",
    "                         }\n",
    "                        )\n",
    "customers"
   ]
  },
  {
   "cell_type": "code",
   "execution_count": 8,
   "metadata": {},
   "outputs": [
    {
     "data": {
      "text/html": [
       "<div>\n",
       "<style scoped>\n",
       "    .dataframe tbody tr th:only-of-type {\n",
       "        vertical-align: middle;\n",
       "    }\n",
       "\n",
       "    .dataframe tbody tr th {\n",
       "        vertical-align: top;\n",
       "    }\n",
       "\n",
       "    .dataframe thead th {\n",
       "        text-align: right;\n",
       "    }\n",
       "</style>\n",
       "<table border=\"1\" class=\"dataframe\">\n",
       "  <thead>\n",
       "    <tr style=\"text-align: right;\">\n",
       "      <th></th>\n",
       "      <th>2003</th>\n",
       "      <th>2004</th>\n",
       "      <th>2005</th>\n",
       "      <th>2006</th>\n",
       "      <th>2007</th>\n",
       "    </tr>\n",
       "  </thead>\n",
       "  <tbody>\n",
       "    <tr>\n",
       "      <td>2003</td>\n",
       "      <td>NaN</td>\n",
       "      <td>0.6334</td>\n",
       "      <td>0.689454</td>\n",
       "      <td>0.747424</td>\n",
       "      <td>0.797794</td>\n",
       "    </tr>\n",
       "    <tr>\n",
       "      <td>2004</td>\n",
       "      <td>NaN</td>\n",
       "      <td>inf</td>\n",
       "      <td>0.633400</td>\n",
       "      <td>0.689454</td>\n",
       "      <td>0.747424</td>\n",
       "    </tr>\n",
       "    <tr>\n",
       "      <td>2005</td>\n",
       "      <td>NaN</td>\n",
       "      <td>NaN</td>\n",
       "      <td>inf</td>\n",
       "      <td>0.633400</td>\n",
       "      <td>0.689454</td>\n",
       "    </tr>\n",
       "    <tr>\n",
       "      <td>2006</td>\n",
       "      <td>NaN</td>\n",
       "      <td>NaN</td>\n",
       "      <td>NaN</td>\n",
       "      <td>inf</td>\n",
       "      <td>0.633400</td>\n",
       "    </tr>\n",
       "    <tr>\n",
       "      <td>2007</td>\n",
       "      <td>NaN</td>\n",
       "      <td>NaN</td>\n",
       "      <td>NaN</td>\n",
       "      <td>NaN</td>\n",
       "      <td>inf</td>\n",
       "    </tr>\n",
       "  </tbody>\n",
       "</table>\n",
       "</div>"
      ],
      "text/plain": [
       "      2003    2004      2005      2006      2007\n",
       "2003   NaN  0.6334  0.689454  0.747424  0.797794\n",
       "2004   NaN     inf  0.633400  0.689454  0.747424\n",
       "2005   NaN     NaN       inf  0.633400  0.689454\n",
       "2006   NaN     NaN       NaN       inf  0.633400\n",
       "2007   NaN     NaN       NaN       NaN       inf"
      ]
     },
     "execution_count": 8,
     "metadata": {},
     "output_type": "execute_result"
    }
   ],
   "source": [
    "retention = (1 + customers.T.pct_change()).T\n",
    "retention"
   ]
  },
  {
   "cell_type": "code",
   "execution_count": 9,
   "metadata": {},
   "outputs": [],
   "source": [
    "# additionally we assume we know there are only two underlying segments\n",
    "# with simple and known distribution of retention rates:\n",
    "\n",
    "# retention rate per segment\n",
    "r1 = 0.9\n",
    "r2 = 0.5\n",
    "# probability of comming from given segment\n",
    "p1 = 1 / 3\n",
    "p2 = 1 - p1"
   ]
  },
  {
   "cell_type": "code",
   "execution_count": 10,
   "metadata": {},
   "outputs": [
    {
     "data": {
      "image/png": "[encoded data removed]",
      "text/plain": [
       "<Figure size 432x288 with 1 Axes>"
      ]
     },
     "metadata": {
      "needs_background": "light"
     },
     "output_type": "display_data"
    }
   ],
   "source": [
    "# demonstrates the effect of heterogenity in retention rates within each cohort\n",
    "r = [(p1*(r1**(n+1)) + p2*(r2**(n+1))) / (p1*(r1**n) + p2*(r2**n)) for n in range(10)]\n",
    "\n",
    "plt.plot(r, label='cohort avg')\n",
    "plt.xticks(range(10))\n",
    "plt.axhline(r1, linestyle='--', color='k', label='segment1')\n",
    "plt.axhline(r2, linestyle='--', color='r', label='segment2')\n",
    "plt.ylim(0,1)\n",
    "plt.legend()\n",
    "plt.title('Cohort level retention rate over time')\n",
    "plt.xlabel('years')\n",
    "plt.ylabel('retention rate')\n",
    "plt.show()"
   ]
  },
  {
   "cell_type": "code",
   "execution_count": 11,
   "metadata": {},
   "outputs": [
    {
     "data": {
      "text/plain": [
       "2007    10000\n",
       "2006     6334\n",
       "2005     4367\n",
       "2004     3264\n",
       "2003     2604\n",
       "Name: 2007, dtype: int64"
      ]
     },
     "execution_count": 11,
     "metadata": {},
     "output_type": "execute_result"
    }
   ],
   "source": [
    "base_2007 = customers.T.loc['2007'].sort_index(ascending=False)\n",
    "base_2007"
   ]
  },
  {
   "cell_type": "code",
   "execution_count": 12,
   "metadata": {},
   "outputs": [
    {
     "data": {
      "text/plain": [
       "2007    0.333333\n",
       "2006    0.473684\n",
       "2005    0.618321\n",
       "2004    0.744637\n",
       "2003    0.839969\n",
       "dtype: float64"
      ]
     },
     "execution_count": 12,
     "metadata": {},
     "output_type": "execute_result"
    }
   ],
   "source": [
    "# probability of comming from segment 1 for customer acquired in given year (Bayes' rule)\n",
    "p_segment1 = pd.Series(\n",
    "    index=base_2007.index, \n",
    "    data=[(r1**n)*p1 / ((r1**n)*p1 + (r2**n)*p2) for n in range(5)]\n",
    ")\n",
    "p_segment1"
   ]
  },
  {
   "cell_type": "code",
   "execution_count": 13,
   "metadata": {},
   "outputs": [
    {
     "data": {
      "text/plain": [
       "2007    226.111111\n",
       "2006    282.719298\n",
       "2005    341.055980\n",
       "2004    392.003745\n",
       "2003    430.454274\n",
       "dtype: float64"
      ]
     },
     "execution_count": 13,
     "metadata": {},
     "output_type": "execute_result"
    }
   ],
   "source": [
    "# the longer the relationship the higher the RLV (higher probability of comming from segment 1)\n",
    "RLV_per_customer = pd.Series(\n",
    "    index=base_2007.index,\n",
    "    data=p_segment1 * rlv(v, d, r1) + (1-p_segment1) * rlv(v, d, r2)\n",
    ")\n",
    "RLV_per_customer"
   ]
  },
  {
   "cell_type": "code",
   "execution_count": 14,
   "metadata": {},
   "outputs": [
    {
     "name": "stdout",
     "output_type": "stream",
     "text": [
      "RLV: 7941649\n"
     ]
    }
   ],
   "source": [
    "RLV = pd.Series(\n",
    "    index=base_2007.index,\n",
    "    data=RLV_per_customer * base_2007\n",
    ")\n",
    "print(f'RLV: {int(RLV.sum())}')"
   ]
  },
  {
   "cell_type": "markdown",
   "metadata": {},
   "source": [
    "### Shifted Beta Geometric Model"
   ]
  },
  {
   "cell_type": "code",
   "execution_count": 15,
   "metadata": {},
   "outputs": [],
   "source": [
    "v = 1\n",
    "d = 0.1"
   ]
  },
  {
   "cell_type": "code",
   "execution_count": 16,
   "metadata": {},
   "outputs": [
    {
     "data": {
      "text/html": [
       "<div>\n",
       "<style scoped>\n",
       "    .dataframe tbody tr th:only-of-type {\n",
       "        vertical-align: middle;\n",
       "    }\n",
       "\n",
       "    .dataframe tbody tr th {\n",
       "        vertical-align: top;\n",
       "    }\n",
       "\n",
       "    .dataframe thead th {\n",
       "        text-align: right;\n",
       "    }\n",
       "</style>\n",
       "<table border=\"1\" class=\"dataframe\">\n",
       "  <thead>\n",
       "    <tr style=\"text-align: right;\">\n",
       "      <th></th>\n",
       "      <th>2003</th>\n",
       "      <th>2004</th>\n",
       "      <th>2005</th>\n",
       "      <th>2006</th>\n",
       "      <th>2007</th>\n",
       "    </tr>\n",
       "  </thead>\n",
       "  <tbody>\n",
       "    <tr>\n",
       "      <td>2003</td>\n",
       "      <td>10000</td>\n",
       "      <td>8000</td>\n",
       "      <td>6480</td>\n",
       "      <td>5307</td>\n",
       "      <td>4391</td>\n",
       "    </tr>\n",
       "    <tr>\n",
       "      <td>2004</td>\n",
       "      <td>0</td>\n",
       "      <td>10000</td>\n",
       "      <td>8000</td>\n",
       "      <td>6480</td>\n",
       "      <td>5307</td>\n",
       "    </tr>\n",
       "    <tr>\n",
       "      <td>2005</td>\n",
       "      <td>0</td>\n",
       "      <td>0</td>\n",
       "      <td>10000</td>\n",
       "      <td>8000</td>\n",
       "      <td>6480</td>\n",
       "    </tr>\n",
       "    <tr>\n",
       "      <td>2006</td>\n",
       "      <td>0</td>\n",
       "      <td>0</td>\n",
       "      <td>0</td>\n",
       "      <td>10000</td>\n",
       "      <td>8000</td>\n",
       "    </tr>\n",
       "    <tr>\n",
       "      <td>2007</td>\n",
       "      <td>0</td>\n",
       "      <td>0</td>\n",
       "      <td>0</td>\n",
       "      <td>0</td>\n",
       "      <td>10000</td>\n",
       "    </tr>\n",
       "  </tbody>\n",
       "</table>\n",
       "</div>"
      ],
      "text/plain": [
       "       2003   2004   2005   2006   2007\n",
       "2003  10000   8000   6480   5307   4391\n",
       "2004      0  10000   8000   6480   5307\n",
       "2005      0      0  10000   8000   6480\n",
       "2006      0      0      0  10000   8000\n",
       "2007      0      0      0      0  10000"
      ]
     },
     "execution_count": 16,
     "metadata": {},
     "output_type": "execute_result"
    }
   ],
   "source": [
    "customers = pd.DataFrame(index=range(2003, 2008),\n",
    "                         data={\n",
    "                             '2003': [10_000, 0, 0, 0, 0],\n",
    "                             '2004': [8_000, 10_000, 0, 0, 0],\n",
    "                             '2005': [6_480, 8_000, 10_000, 0, 0],\n",
    "                             '2006': [5_307, 6_480, 8_000, 10_000, 0],\n",
    "                             '2007': [4_391, 5_307, 6_480, 8_000, 10_000]\n",
    "                         }\n",
    "                        )\n",
    "customers"
   ]
  },
  {
   "cell_type": "code",
   "execution_count": 17,
   "metadata": {},
   "outputs": [],
   "source": [
    "def sBG_likelihood(x: tuple, data: pd.DataFrame, sign: int = 1) -> float:\n",
    "    \"\"\"Calculates likelihood of Shifted Beta Geometric model\n",
    "    \n",
    "    Computes log likelihood of sBG distribution as a model of\n",
    "    customer contract duration in discrete-time contractual \n",
    "    settings.\n",
    "    \n",
    "    :param x: tuple of params (alpha, beta)\n",
    "    :param data: customer cohort data\n",
    "    :param sigh: multiplier of the result (scipy has no 'maximize' fn)\n",
    "    \n",
    "    :returns: log likelihood\n",
    "    \"\"\"\n",
    "    alpha = x[0]\n",
    "    beta = x[1]\n",
    "    \n",
    "    P_T_t = [alpha / (alpha + beta)]\n",
    "    \n",
    "    for t in range(2, data.shape[1]):\n",
    "        P_T_t.append(((beta + t - 2) / (alpha + beta + t - 1)) * P_T_t[t-2])\n",
    "    \n",
    "    S_T_t = [1 - sum(P_T_t[:t]) for t in range(1, len(P_T_t)+1)]\n",
    "    \n",
    "    log_likelihood = 0\n",
    "\n",
    "    for i in range(data.shape[1]):\n",
    "        for j in range(i):\n",
    "            diff = customers.iloc[j, i-1] - customers.iloc[j, i]\n",
    "            log_likelihood += diff * np.log(P_T_t[i-j-1])\n",
    "\n",
    "    for i in range(data.shape[1]-1):\n",
    "        log_likelihood += customers.iloc[i, -1] * np.log(S_T_t[-i-1])\n",
    "\n",
    "    return log_likelihood * sign\n",
    "\n",
    "\n",
    "def derl(alpha: float, beta: float, d: float, n: int) -> float:\n",
    "    \"\"\"\n",
    "    Computes discounted expected residual lifetime\n",
    "    \n",
    "    Calculates derl of a single customer based on fitted\n",
    "    shifted beta geometric model.\n",
    "\n",
    "    :param alpha: sBG alpha\n",
    "    :param beta: sBG beta\n",
    "    :param d: annual discount rate\n",
    "    :param n: number of periods the customer is active\n",
    "    \n",
    "    :return: derl\n",
    "    \"\"\"\n",
    "    return (beta + n - 1) / (alpha + beta + n - 1) * \\\n",
    "            hyp2f1(1, beta + n, alpha + beta + n, 1 / (1 + d))"
   ]
  },
  {
   "cell_type": "code",
   "execution_count": 18,
   "metadata": {},
   "outputs": [],
   "source": [
    "alpha, beta = minimize(sBG_likelihood, (1, 1), args=(customers, -1), method='nelder-mead').x"
   ]
  },
  {
   "cell_type": "code",
   "execution_count": 19,
   "metadata": {},
   "outputs": [
    {
     "data": {
      "image/png": "[encoded data removed]",
      "text/plain": [
       "<Figure size 432x288 with 1 Axes>"
      ]
     },
     "metadata": {
      "needs_background": "light"
     },
     "output_type": "display_data"
    }
   ],
   "source": [
    "# plot the distribution of Omega\n",
    "x = np.linspace(0, 1, 1000)\n",
    "pdf = scipy.stats.beta.pdf(x, alpha, beta)\n",
    "\n",
    "plt.plot(x, pdf, label='beta pdf', color='k')\n",
    "plt.fill_between(x, 0, pdf, alpha=0.2)\n",
    "plt.title('Fitted Beta distribusion of the latent parameter Omega')\n",
    "plt.ylim(0)\n",
    "plt.xlim(0, 1)\n",
    "plt.legend()\n",
    "plt.show()"
   ]
  },
  {
   "cell_type": "code",
   "execution_count": 20,
   "metadata": {},
   "outputs": [
    {
     "data": {
      "text/plain": [
       "2003    3.842486\n",
       "2004    3.717107\n",
       "2005    3.586779\n",
       "2006    3.451169\n",
       "2007    3.309915\n",
       "dtype: float64"
      ]
     },
     "execution_count": 20,
     "metadata": {},
     "output_type": "execute_result"
    }
   ],
   "source": [
    "RLV_per_customer = pd.Series(\n",
    "    index=customers.index,\n",
    "    data=[derl(alpha, beta, d, n) for n in range(customers.shape[0], 0, -1)]\n",
    ")\n",
    "RLV_per_customer"
   ]
  },
  {
   "cell_type": "code",
   "execution_count": 21,
   "metadata": {},
   "outputs": [
    {
     "name": "stdout",
     "output_type": "stream",
     "text": [
      "RLV: 120549\n"
     ]
    }
   ],
   "source": [
    "RLV = pd.Series(\n",
    "    index=customers.index,\n",
    "    data=RLV_per_customer*v*customers.iloc[:, -1]\n",
    ")\n",
    "print(f'RLV: {int(RLV.sum())}')"
   ]
  }
 ],
 "metadata": {
  "kernelspec": {
   "display_name": "Python 3",
   "language": "python",
   "name": "python3"
  },
  "language_info": {
   "codemirror_mode": {
    "name": "ipython",
    "version": 3
   },
   "file_extension": ".py",
   "mimetype": "text/x-python",
   "name": "python",
   "nbconvert_exporter": "python",
   "pygments_lexer": "ipython3",
   "version": "3.7.4"
  }
 },
 "nbformat": 4,
 "nbformat_minor": 2
}
