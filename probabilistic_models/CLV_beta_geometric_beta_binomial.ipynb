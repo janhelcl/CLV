{
 "cells": [
  {
   "cell_type": "markdown",
   "metadata": {},
   "source": [
    "# CLV non-contractual settings in discrete time\n",
    "Based on:<br>\n",
    "[Probability Models for Customer-Base Analysis](https://brucehardie.com/talks/ho_cba_tut_art_09.pdf)<br>\n",
    "[Implementing the BG/BB Model for Customer-Base Analysis](http://brucehardie.com/notes/010/bgbb_spreadsheet_2011-01-20.pdf)\n",
    "\n",
    "Hypothetical non-contractual setting:<br>\n",
    "- A major public radio station located in the Midwestern\n",
    "United States.\n",
    "- Supported in large part by listener contributions.\n",
    "- Initial focus on 1995 cohort, ignoring donation amount:\n",
    "    - 11,104 people first-time supporters.\n",
    "    - This cohort makes a total of 24,615 repeat donations (transactions) over the next 6 years.\n",
    "\n",
    "What level of support (# transactions) can we expect\n",
    "from this cohort in the future?"
   ]
  },
  {
   "cell_type": "code",
   "execution_count": 1,
   "metadata": {},
   "outputs": [],
   "source": [
    "import math\n",
    "\n",
    "import numpy as np\n",
    "import pandas as pd\n",
    "import matplotlib.pyplot as plt\n",
    "from scipy.optimize import minimize\n",
    "from scipy.special import beta as beta_fn\n",
    "from scipy.special import gamma as gamma_fn\n",
    "from scipy.special import hyp2f1\n",
    "from scipy.stats import beta as beta_dist"
   ]
  },
  {
   "cell_type": "code",
   "execution_count": 2,
   "metadata": {},
   "outputs": [],
   "source": [
    "v = 10 # annual contribution\n",
    "d = 0.1 # annual discount rate"
   ]
  },
  {
   "cell_type": "code",
   "execution_count": 3,
   "metadata": {},
   "outputs": [
    {
     "data": {
      "text/html": [
       "<div>\n",
       "<style scoped>\n",
       "    .dataframe tbody tr th:only-of-type {\n",
       "        vertical-align: middle;\n",
       "    }\n",
       "\n",
       "    .dataframe tbody tr th {\n",
       "        vertical-align: top;\n",
       "    }\n",
       "\n",
       "    .dataframe thead th {\n",
       "        text-align: right;\n",
       "    }\n",
       "</style>\n",
       "<table border=\"1\" class=\"dataframe\">\n",
       "  <thead>\n",
       "    <tr style=\"text-align: right;\">\n",
       "      <th></th>\n",
       "      <th>p1x</th>\n",
       "      <th>tx</th>\n",
       "      <th>n</th>\n",
       "      <th>donors</th>\n",
       "    </tr>\n",
       "  </thead>\n",
       "  <tbody>\n",
       "    <tr>\n",
       "      <td>0</td>\n",
       "      <td>6</td>\n",
       "      <td>6</td>\n",
       "      <td>6</td>\n",
       "      <td>1203</td>\n",
       "    </tr>\n",
       "    <tr>\n",
       "      <td>1</td>\n",
       "      <td>5</td>\n",
       "      <td>6</td>\n",
       "      <td>6</td>\n",
       "      <td>728</td>\n",
       "    </tr>\n",
       "    <tr>\n",
       "      <td>2</td>\n",
       "      <td>4</td>\n",
       "      <td>6</td>\n",
       "      <td>6</td>\n",
       "      <td>512</td>\n",
       "    </tr>\n",
       "    <tr>\n",
       "      <td>3</td>\n",
       "      <td>3</td>\n",
       "      <td>6</td>\n",
       "      <td>6</td>\n",
       "      <td>357</td>\n",
       "    </tr>\n",
       "    <tr>\n",
       "      <td>4</td>\n",
       "      <td>2</td>\n",
       "      <td>6</td>\n",
       "      <td>6</td>\n",
       "      <td>234</td>\n",
       "    </tr>\n",
       "  </tbody>\n",
       "</table>\n",
       "</div>"
      ],
      "text/plain": [
       "   p1x  tx  n  donors\n",
       "0    6   6  6    1203\n",
       "1    5   6  6     728\n",
       "2    4   6  6     512\n",
       "3    3   6  6     357\n",
       "4    2   6  6     234"
      ]
     },
     "execution_count": 3,
     "metadata": {},
     "output_type": "execute_result"
    }
   ],
   "source": [
    "# total transactions\n",
    "transactions = pd.Series(\n",
    "    index=range(1996, 2007),\n",
    "    data=[5652, 4674, 4019, 3552, 3555, 3163, 3110, 2938, 2703, 2573, 1936] # total n transaction\n",
    ")\n",
    "\n",
    "# transaction summary (1996-2001)\n",
    "customers = pd.DataFrame(\n",
    "    data = {\n",
    "        'p1x': [6, 5, 4, 3, 2, 1, 5, 4, 3, 2, 1, 4, 3, 2, 1, 3, 2, 1, 2, 1, 1, 0], # frequency\n",
    "        'tx': [6, 6, 6, 6, 6, 6, 5, 5, 5, 5, 5, 4, 4, 4, 4, 3, 3, 3, 2, 2, 1, 0], # recency\n",
    "        'n': [6, 6, 6, 6, 6, 6, 6, 6, 6, 6, 6, 6, 6, 6, 6, 6, 6, 6, 6, 6, 6, 6], # n periods\n",
    "        'donors': [1203, 728, 512, 357, 234, 129, 335, 284, 225, 173, 119, 240, \\\n",
    "                   181, 155, 78, 322, 255, 129, 613, 277, 1091, 3464] # n customers with given f/r pattern\n",
    "    }\n",
    ")\n",
    "customers.head()"
   ]
  },
  {
   "cell_type": "code",
   "execution_count": 4,
   "metadata": {},
   "outputs": [],
   "source": [
    "def c_BG_BB_likelihood(alpha: float,\n",
    "                       beta: float,\n",
    "                       gamma: float,\n",
    "                       delta: float,\n",
    "                       row: pd.DataFrame\n",
    "                      ) -> float:\n",
    "    \"\"\"Conditional BG/BB likelihood\n",
    "    \n",
    "    Computes L(alpha, beta, gamma, delta | x, tx, n)\n",
    "    \n",
    "    :param alpha: BG/BB alpha\n",
    "    :param beta: BG/BB beta\n",
    "    :param gamma: BG/BB gamma\n",
    "    :param delta: BG/BB delta\n",
    "    :param row: row of customer dataframe\n",
    "    \n",
    "    :returns: conditional likelihood\n",
    "    \"\"\"\n",
    "    l = 0\n",
    "    l += (beta_fn(alpha+row['p1x'], beta+row['n']-row['p1x']) / beta_fn(alpha, beta)) \\\n",
    "    * (beta_fn(gamma, delta+row['n']) / beta_fn(gamma, delta))\n",
    "    \n",
    "    for j in range(row['n']-row['tx']):\n",
    "        l += (beta_fn(alpha+row['p1x'], beta+row['tx']-row['p1x']+j) / beta_fn(alpha, beta)) \\\n",
    "            * (beta_fn(gamma+1, delta+row['tx']+j) / beta_fn(gamma, delta))\n",
    "    return l\n",
    "\n",
    "\n",
    "def BG_BB_likelihood(x: tuple, data: pd.DataFrame, sign: int = 1) -> float:\n",
    "    \"\"\"BG/BB log likelihood\n",
    "    \n",
    "    Computes log likelihood of BG/BB model of customer behaviour\n",
    "    in discrete-time non-contractual settings.\n",
    "    \n",
    "    :param x: (alpha, beta, gamma, delta)\n",
    "    :param row: customer dataframe\n",
    "    :param sigh: multiplier of the result (scipy has no 'maximize' fn)\n",
    "    \n",
    "    :returns: log likelihood\n",
    "    \"\"\"\n",
    "    alpha = x[0]\n",
    "    beta = x[1]\n",
    "    gamma = x[2]\n",
    "    delta = x[3]\n",
    "    \n",
    "    log_likelihood = 0\n",
    "    \n",
    "    for i in range(data.shape[0]):\n",
    "        row = data.iloc[i]\n",
    "    \n",
    "        l = c_BG_BB_likelihood(alpha, beta, gamma, delta, row)\n",
    "        \n",
    "        log_likelihood += row['donors'] * np.log(l)\n",
    "    \n",
    "    return log_likelihood * sign"
   ]
  },
  {
   "cell_type": "code",
   "execution_count": 5,
   "metadata": {},
   "outputs": [],
   "source": [
    "alpha, beta, gamma, delta = minimize(BG_BB_likelihood, (1,1,1,1), args=(customers, -1), method='nelder-mead').x"
   ]
  },
  {
   "cell_type": "code",
   "execution_count": 6,
   "metadata": {},
   "outputs": [
    {
     "name": "stdout",
     "output_type": "stream",
     "text": [
      "BG/BB params:\n",
      "alpha: 1.204\n",
      "beta: 0.75\n",
      "gamma: 0.657\n",
      "delta: 2.783\n"
     ]
    }
   ],
   "source": [
    "print(f'BG/BB params:\\nalpha: {round(alpha, 3)}\\nbeta: {round(beta, 3)}\\ngamma: {round(gamma, 3)}\\ndelta: {round(delta, 3)}')"
   ]
  },
  {
   "cell_type": "code",
   "execution_count": 7,
   "metadata": {},
   "outputs": [
    {
     "data": {
      "image/png": "[encoded data removed]",
      "text/plain": [
       "<Figure size 1080x360 with 2 Axes>"
      ]
     },
     "metadata": {
      "needs_background": "light"
     },
     "output_type": "display_data"
    }
   ],
   "source": [
    "fig, (ax1, ax2) = plt.subplots(1, 2, figsize=(15, 5))\n",
    "\n",
    "# plot the distribution of p\n",
    "x = np.linspace(0, 1, 1000)\n",
    "pdf_p = beta_dist.pdf(x, alpha, beta)\n",
    "\n",
    "ax1.plot(x, pdf_p, label='beta pdf', color='k')\n",
    "ax1.fill_between(x, 0, pdf_p, alpha=0.2)\n",
    "ax1.set_title('Fitted Beta distribusion of the latent parameter p')\n",
    "ax1.set_ylim(0)\n",
    "ax1.set_xlim(0, 1)\n",
    "ax1.legend()\n",
    "\n",
    "# plot the distribution of omega\n",
    "pdf_o = beta_dist.pdf(x, gamma, delta)\n",
    "\n",
    "ax2.plot(x, pdf_o, label='beta pdf', color='k')\n",
    "ax2.fill_between(x, 0, pdf_o, alpha=0.2)\n",
    "ax2.set_title('Fitted Beta distribusion of the latent parameter Omega')\n",
    "ax2.set_ylim(0)\n",
    "ax2.set_xlim(0, 1)\n",
    "ax2.legend()\n",
    "\n",
    "plt.show()"
   ]
  },
  {
   "cell_type": "code",
   "execution_count": 8,
   "metadata": {},
   "outputs": [],
   "source": [
    "def nCr(n,r):\n",
    "    \"Combination number\"\n",
    "    f = math.factorial\n",
    "    return f(n) / f(r) / f(n-r) \n",
    "\n",
    "\n",
    "def in_sample_plot(alpha: float,\n",
    "                   beta: float,\n",
    "                   gamma: float,\n",
    "                   delta: float,\n",
    "                   data: pd.DataFrame\n",
    "                  ) -> None:\n",
    "    \"\"\"In-Sample Model Fit Plot\n",
    "    \n",
    "    Compares the expected number of people making n repeat transactions \n",
    "    in the calibration sample period to the actual frequency distribution.\n",
    "    \n",
    "    :param alpha: BG/BB alpha\n",
    "    :param beta: BG/BB beta\n",
    "    :param gamma: BG/BB gamma\n",
    "    :param delta: BG/BB delta\n",
    "    :param row: customer dataframe\n",
    "    \"\"\"\n",
    "    actual = customers.groupby('p1x').sum()['donors']\n",
    "    predicted = []\n",
    "    total = actual.sum()\n",
    "    n = data['n'].max()\n",
    "\n",
    "    for x in range(n+1):\n",
    "        P_n_x = nCr(n, x) * (beta_fn(alpha+x, beta+n-x) / beta_fn(alpha, beta)) \\\n",
    "                            * (beta_fn(gamma, delta+n) / beta_fn(gamma, delta))\n",
    "        for i in range(x, n):\n",
    "            P_n_x += nCr(i, x) * (beta_fn(alpha+x, beta+i-x) / beta_fn(alpha, beta)) \\\n",
    "                            * (beta_fn(gamma+1, delta+i) / beta_fn(gamma, delta))\n",
    "        predicted.append(P_n_x * total)\n",
    "        \n",
    "    res = pd.DataFrame(\n",
    "        index=actual.index,\n",
    "        data={\n",
    "            'actual': actual,\n",
    "            'model': predicted\n",
    "        }\n",
    "    )\n",
    "    res.index.name = '# repeat transactions'\n",
    "    res.plot.bar()\n",
    "    plt.title('In-sample fit')\n",
    "    plt.show()"
   ]
  },
  {
   "cell_type": "code",
   "execution_count": 9,
   "metadata": {},
   "outputs": [
    {
     "data": {
      "image/png": "[encoded data removed]",
      "text/plain": [
       "<Figure size 432x288 with 1 Axes>"
      ]
     },
     "metadata": {
      "needs_background": "light"
     },
     "output_type": "display_data"
    }
   ],
   "source": [
    "in_sample_plot(alpha, beta, gamma, delta, customers)"
   ]
  },
  {
   "cell_type": "code",
   "execution_count": 10,
   "metadata": {},
   "outputs": [],
   "source": [
    "def tracking_plot(alpha: float,\n",
    "                  beta: float,\n",
    "                  gamma: float,\n",
    "                  delta: float,\n",
    "                  n_customers,\n",
    "                  train_end,\n",
    "                  transactions: pd.Series\n",
    "                 ) -> None:\n",
    "    \"\"\"Tracking plot\n",
    "    \n",
    "    Assess the performance of the model is to see how well it\n",
    "    tracks repeat transactions over time.\n",
    "    \n",
    "    :param alpha: BG/BB alpha\n",
    "    :param beta: BG/BB beta\n",
    "    :param gamma: BG/BB gamma\n",
    "    :param delta: BG/BB delta\n",
    "    :param n_customers: total number of customers\n",
    "    :param train_end: last period of training sample\n",
    "    :param transactions: series of number of transactions per year\n",
    "    \"\"\"\n",
    "    predicted = []\n",
    "    \n",
    "    for n in range(1, len(transactions)+1):\n",
    "        E_X_n = (alpha / (alpha + beta)) * (delta / (gamma - 1))\n",
    "        E_X_n *= 1 - ((gamma_fn(gamma+delta) / gamma_fn(gamma+delta+n))\\\n",
    "                      * (gamma_fn(1+delta+n) / gamma_fn(1+delta)))\n",
    "        predicted.append(E_X_n * n_customers)\n",
    "        \n",
    "    cumulative = pd.DataFrame(\n",
    "        index=transactions.index,\n",
    "        data={\n",
    "            'actual': transactions.cumsum(),\n",
    "            'predicted': predicted\n",
    "        }\n",
    "    )\n",
    "    \n",
    "    fig, (ax1, ax2) = plt.subplots(1, 2, figsize=(15, 5))\n",
    "    \n",
    "    cumulative.plot(ax=ax1)\n",
    "    annual = cumulative.diff().fillna(cumulative)\n",
    "    annual.plot(ax=ax2)\n",
    "    \n",
    "    ax1.set_title('Cumulative number of transactions')\n",
    "    ax2.set_title('Annual number of transactions')\n",
    "    ax1.axvline(train_end, color='k', linestyle='--', alpha=0.5)\n",
    "    ax2.axvline(train_end, color='k', linestyle='--', alpha=0.5)"
   ]
  },
  {
   "cell_type": "code",
   "execution_count": 11,
   "metadata": {},
   "outputs": [
    {
     "data": {
      "image/png": "[encoded data removed]",
      "text/plain": [
       "<Figure size 1080x360 with 2 Axes>"
      ]
     },
     "metadata": {
      "needs_background": "light"
     },
     "output_type": "display_data"
    }
   ],
   "source": [
    "tracking_plot(alpha, beta, gamma, delta, customers['donors'].sum(), 2001, transactions)"
   ]
  },
  {
   "cell_type": "code",
   "execution_count": 12,
   "metadata": {},
   "outputs": [],
   "source": [
    "def dert(alpha: float,\n",
    "         beta: float,\n",
    "         gamma: float, \n",
    "         delta: float,\n",
    "         d: float,\n",
    "         data: pd.DataFrame\n",
    "        ) -> pd.DataFrame:\n",
    "    \"\"\"Discounted expected residual transactions\n",
    "    \n",
    "    Computes discounted expected residual transactions\n",
    "    using the BG/BB model.\n",
    "    \n",
    "    :param alpha: BG/BB alpha\n",
    "    :param beta: BG/BB beta\n",
    "    :param gamma: BG/BB gamma\n",
    "    :param delta: BG/BB delta\n",
    "    :param d: annual discount rate\n",
    "    :param data: customer dataframe\n",
    "    \n",
    "    :returns: dert\n",
    "    \"\"\"\n",
    "    derts = []\n",
    "    \n",
    "    for i in range(data.shape[0]):\n",
    "        row = data.iloc[i]\n",
    "        \n",
    "        dert = (beta_fn(alpha+row['p1x']+1, beta+row['n']-row['p1x']) / beta_fn(alpha, beta))\n",
    "        dert *= (beta_fn(gamma, delta+row['n']+1) / beta_fn(gamma, delta)) * (1 / (1 + d))\n",
    "        dert *= hyp2f1(1, delta+row['n']+1, delta+gamma+row['n']+1, (1 / (1 + d))) \\\n",
    "                / c_BG_BB_likelihood(alpha, beta, gamma, delta, row)\n",
    "        \n",
    "        derts.append(dert)\n",
    "        \n",
    "    res = customers.copy()\n",
    "    res['dert'] = derts\n",
    "        \n",
    "    return res"
   ]
  },
  {
   "cell_type": "code",
   "execution_count": 13,
   "metadata": {},
   "outputs": [
    {
     "data": {
      "text/html": [
       "<div>\n",
       "<style scoped>\n",
       "    .dataframe tbody tr th:only-of-type {\n",
       "        vertical-align: middle;\n",
       "    }\n",
       "\n",
       "    .dataframe tbody tr th {\n",
       "        vertical-align: top;\n",
       "    }\n",
       "\n",
       "    .dataframe thead th {\n",
       "        text-align: right;\n",
       "    }\n",
       "</style>\n",
       "<table border=\"1\" class=\"dataframe\">\n",
       "  <thead>\n",
       "    <tr style=\"text-align: right;\">\n",
       "      <th></th>\n",
       "      <th>p1x</th>\n",
       "      <th>tx</th>\n",
       "      <th>n</th>\n",
       "      <th>donors</th>\n",
       "      <th>dert</th>\n",
       "    </tr>\n",
       "  </thead>\n",
       "  <tbody>\n",
       "    <tr>\n",
       "      <td>0</td>\n",
       "      <td>6</td>\n",
       "      <td>6</td>\n",
       "      <td>6</td>\n",
       "      <td>1203</td>\n",
       "      <td>5.909882</td>\n",
       "    </tr>\n",
       "    <tr>\n",
       "      <td>1</td>\n",
       "      <td>5</td>\n",
       "      <td>6</td>\n",
       "      <td>6</td>\n",
       "      <td>728</td>\n",
       "      <td>5.089466</td>\n",
       "    </tr>\n",
       "    <tr>\n",
       "      <td>2</td>\n",
       "      <td>4</td>\n",
       "      <td>6</td>\n",
       "      <td>6</td>\n",
       "      <td>512</td>\n",
       "      <td>4.269051</td>\n",
       "    </tr>\n",
       "    <tr>\n",
       "      <td>3</td>\n",
       "      <td>3</td>\n",
       "      <td>6</td>\n",
       "      <td>6</td>\n",
       "      <td>357</td>\n",
       "      <td>3.448635</td>\n",
       "    </tr>\n",
       "    <tr>\n",
       "      <td>4</td>\n",
       "      <td>2</td>\n",
       "      <td>6</td>\n",
       "      <td>6</td>\n",
       "      <td>234</td>\n",
       "      <td>2.628219</td>\n",
       "    </tr>\n",
       "  </tbody>\n",
       "</table>\n",
       "</div>"
      ],
      "text/plain": [
       "   p1x  tx  n  donors      dert\n",
       "0    6   6  6    1203  5.909882\n",
       "1    5   6  6     728  5.089466\n",
       "2    4   6  6     512  4.269051\n",
       "3    3   6  6     357  3.448635\n",
       "4    2   6  6     234  2.628219"
      ]
     },
     "execution_count": 13,
     "metadata": {},
     "output_type": "execute_result"
    }
   ],
   "source": [
    "customers_dert = dert(alpha, beta, gamma, delta, d, customers)\n",
    "customers_dert.head()"
   ]
  },
  {
   "cell_type": "code",
   "execution_count": 14,
   "metadata": {},
   "outputs": [
    {
     "name": "stdout",
     "output_type": "stream",
     "text": [
      "RLV: 202912\n"
     ]
    }
   ],
   "source": [
    "RLV = pd.Series(\n",
    "    data=customers_dert['dert'] * customers_dert['donors'] * v\n",
    ")\n",
    "print(f'RLV: {int(RLV.sum())}')"
   ]
  }
 ],
 "metadata": {
  "kernelspec": {
   "display_name": "Python 3",
   "language": "python",
   "name": "python3"
  },
  "language_info": {
   "codemirror_mode": {
    "name": "ipython",
    "version": 3
   },
   "file_extension": ".py",
   "mimetype": "text/x-python",
   "name": "python",
   "nbconvert_exporter": "python",
   "pygments_lexer": "ipython3",
   "version": "3.7.4"
  }
 },
 "nbformat": 4,
 "nbformat_minor": 2
}
